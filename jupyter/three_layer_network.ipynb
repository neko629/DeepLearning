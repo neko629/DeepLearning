{
 "cells": [
  {
   "cell_type": "code",
   "id": "initial_id",
   "metadata": {
    "collapsed": true,
    "ExecuteTime": {
     "end_time": "2025-10-15T13:58:39.559388Z",
     "start_time": "2025-10-15T13:58:39.551922Z"
    }
   },
   "source": [
    "import numpy as np\n",
    "# 激活函数 sigmoid\n",
    "def sigmoid(x):\n",
    "    return 1 / (1 + np.exp(-x))\n",
    "# 恒等函数\n",
    "def identity_function(x):\n",
    "    return x\n",
    "\n",
    "# 输入层两个节点\n",
    "x = np.array([1.0, 0.5])\n",
    "# 第二层三个节点，所以输入层的每个节点到第二层有三个权重，第一层权重是一个 2x3 的矩阵\n",
    "W1 = np.array([[0.1, 0.3, 0.5], [0.2, 0.4, 0.6]])\n",
    "# 输入层到第二层的偏置同样有三个\n",
    "b1 = np.array([0.1, 0.2, 0.3])\n",
    "# 第二层的输入，等于输入层节点乘以权重加上偏置\n",
    "a1 = np.dot(x, W1) + b1\n",
    "print(f\"第二层的输入 a1 = {a1}\")\n",
    "# 得到结果后，需要经过激活函数，这里使用 sigmoid 函数\n",
    "z1 = sigmoid(a1)\n",
    "print(f\"第二层的输出 z1 = {z1}\")\n",
    "# 第三层两个节点，所以第二层的每个节点到第三层有两个权重，第二层权重是一个 3x2 的矩阵\n",
    "W2 = np.array([[0.1, 0.4], [0.2, 0.5], [0.3, 0.6]])\n",
    "# 第二层到第三层的偏置有两个\n",
    "b2 = np.array([0.1, 0.2])\n",
    "# 第三层的输入，等于第二层节点乘以权重加上偏置\n",
    "a2 = np.dot(z1, W2) + b2\n",
    "print(f\"第三层的输入 a2 = {a2}\")\n",
    "# 激活函数\n",
    "z2 = sigmoid(a2)\n",
    "print(f\"第三层的输出 z2 = {z2}\")\n",
    "# 输出层两个节点，所以第三层的每个节点到输出层有两个权重，第三层权重是一个 2x2 的矩阵\n",
    "W3 = np.array([[0.1, 0.3], [0.2, 0.4]])\n",
    "# 第三层到输出层的偏置有两个\n",
    "b3 = np.array([0.1, 0.2])\n",
    "# 输出层的输入，等于第三层节点乘以权重加上偏置\n",
    "a3 = np.dot(z2, W3) + b3\n",
    "print(f\"输出层的输入 a3 = {a3}\")\n",
    "# 输出层的输出经过恒等函数\n",
    "y = identity_function(a3)\n",
    "print(f\"输出层的输出 y = {y}\")\n",
    "\n",
    "\n"
   ],
   "outputs": [
    {
     "name": "stdout",
     "output_type": "stream",
     "text": [
      "第二层的输入 a1 = [0.3 0.7 1.1]\n",
      "第二层的输出 z1 = [0.57444252 0.66818777 0.75026011]\n",
      "第三层的输入 a2 = [0.51615984 1.21402696]\n",
      "第三层的输出 z2 = [0.62624937 0.7710107 ]\n",
      "输出层的输入 a3 = [0.31682708 0.69627909]\n",
      "输出层的输出 y = [0.31682708 0.69627909]\n"
     ]
    }
   ],
   "execution_count": 6
  },
  {
   "metadata": {},
   "cell_type": "markdown",
   "source": [
    "这里输出层的激活函数选用恒等函数。实际问题由问题的性质决定。\n",
    "1. 回归问题一般使用恒等函数\n",
    "2. 二分类问题一般使用 sigmoid 函数\n",
    "3. 多分类问题一般使用 softmax 函数"
   ],
   "id": "cc94a7b87bb4403e"
  },
  {
   "metadata": {
    "ExecuteTime": {
     "end_time": "2025-10-15T14:04:54.232352Z",
     "start_time": "2025-10-15T14:04:54.223754Z"
    }
   },
   "cell_type": "code",
   "source": [
    "# 优化上述代码\n",
    "import numpy as np\n",
    "# # 激活函数 sigmoid\n",
    "def sigmoid(x):\n",
    "    return 1 / (1 + np.exp(-x))\n",
    "# 恒等函数\n",
    "def identity_function(x):\n",
    "    return x\n",
    "\n",
    "# 初始化网络参数\n",
    "def init_network():\n",
    "    network = {} # 使用字典存储网络参数\n",
    "    # 定义每一层的权重和偏置\n",
    "    network['W1'] = np.array([[0.1, 0.3, 0.5], [0.2, 0.4, 0.6]])\n",
    "    network['b1'] = np.array([0.1, 0.2, 0.3])\n",
    "    network['W2'] = np.array([[0.1, 0.4], [0.2, 0.5], [0.3, 0.6]])\n",
    "    network['b2'] = np.array([0.1, 0.2])\n",
    "    network['W3'] = np.array([[0.1, 0.3], [0.2, 0.4]])\n",
    "    network['b3'] = np.array([0.1, 0.2])\n",
    "    return network\n",
    "\n",
    "# 前向传播\n",
    "def forward(network, x):\n",
    "    # 从字典中取出每一层的权重和偏置\n",
    "    W1, W2, W3 = network['W1'], network['W2'], network['W3']\n",
    "    b1, b2, b3 = network['b1'], network['b2'], network['b3']\n",
    "    # 计算每一层的输入和输出\n",
    "    a1 = np.dot(x, W1) + b1\n",
    "    z1 = sigmoid(a1)\n",
    "    a2 = np.dot(z1, W2) + b2\n",
    "    z2 = sigmoid(a2)\n",
    "    a3 = np.dot(z2, W3) + b3\n",
    "    y = identity_function(a3)\n",
    "    return y\n",
    "\n",
    "# 主逻辑\n",
    "network = init_network() # 初始化网络参数\n",
    "x = np.array([1.0, 0.5]) # 输入层\n",
    "y = forward(network, x) # 前向传播\n",
    "print(f\"输出层的输出 y = {y}\")"
   ],
   "id": "72df97577ff37f21",
   "outputs": [
    {
     "name": "stdout",
     "output_type": "stream",
     "text": [
      "输出层的输出 y = [0.31682708 0.69627909]\n"
     ]
    }
   ],
   "execution_count": 7
  }
 ],
 "metadata": {
  "kernelspec": {
   "display_name": "Python 3",
   "language": "python",
   "name": "python3"
  },
  "language_info": {
   "codemirror_mode": {
    "name": "ipython",
    "version": 2
   },
   "file_extension": ".py",
   "mimetype": "text/x-python",
   "name": "python",
   "nbconvert_exporter": "python",
   "pygments_lexer": "ipython2",
   "version": "2.7.6"
  }
 },
 "nbformat": 4,
 "nbformat_minor": 5
}
