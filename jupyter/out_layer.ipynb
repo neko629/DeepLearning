{
 "cells": [
  {
   "metadata": {},
   "cell_type": "markdown",
   "source": [
    "# 输出层的设计\n",
    "一般来说\n",
    "* 回归问题使用恒等函数\n",
    "* 分类问题使用 softmax 函数\n",
    "\n",
    "机器学习的问题大致可以分为两类：回归问题和分类问题。\n",
    "* 分类问题是指将输入数据划分到不同类别中去的问题，比如垃圾邮件分类、图像识别等。\n",
    "* 回归问题是指预测一个连续值的问题，比如房价预测、股票价格预测等。\n",
    "\n",
    "使用的函数说明\n",
    "1. np.max(a) 返回数组 a 中的最大值\n",
    "2. np.exp(a) 对数组 a 中的每个元素计算指数函数\n",
    "3. np.sum(a) 对数组 a 中的所有元素求和\n",
    "\n",
    "softmax 函数为什么要减去最大值？\n",
    "* 减去最大值是为了防止溢出（overflow）。\n",
    "* 当输入数组 a 中的某个元素非常大时，计算 exp(a) 会导致数值溢出，进而影响计算结果。\n",
    "* 通过减去最大值，可以将输入数组的范围缩小，避免溢出问题，同时不影响 softmax 函数的输出结果。\n",
    "\n",
    "为什么减去最大值不影响结果？\n",
    "* exp(a) = exp(a - c) * exp(c)\n",
    "* 设输入数组为 a，最大值为 c，则 softmax 函数的计算过程如下：\n",
    "  softmax(a) = exp(a) / sum(exp(a))\n",
    "  = exp(a - c) * exp(c) / sum(exp(a - c) * exp(c))\n",
    "  = exp(a - c) / sum(exp(a - c))\n",
    "* 可以看出，减去最大值 c 后，softmax 函数的输出结果并没有改变。"
   ],
   "id": "d54f391d9de0c3a2"
  },
  {
   "metadata": {
    "ExecuteTime": {
     "end_time": "2025-10-15T14:30:11.182357Z",
     "start_time": "2025-10-15T14:30:11.097680Z"
    }
   },
   "cell_type": "code",
   "source": [
    "# softmax 函数\n",
    "import numpy as np\n",
    "import matplotlib.pyplot as plt\n",
    "\n",
    "def softmax(a):\n",
    "    c = np.max(a) # 为了防止溢出，减去最大值\n",
    "    exp_a = np.exp(a - c) # 计算 exp(a - c)\n",
    "    sum_exp_a = np.sum(exp_a) # 计算 exp(a - c) 的和\n",
    "    y = exp_a / sum_exp_a # 计算 softmax 的值\n",
    "    return y\n",
    "\n",
    "# 对 softmax 函数进行画图\n",
    "a = np.array([-2.0, 0.1, 2.0])\n",
    "b = softmax(a) # 调用 softmax 函数，得到 b\n",
    "print(b)\n",
    "plt.plot(a, b) # 画图\n",
    "plt.ylim(-0.1, 1.1) # y 轴的范围\n",
    "plt.show() # 显示图像\n",
    "print(np.sum(b))"
   ],
   "id": "2a9b3bbb5be9c14c",
   "outputs": [
    {
     "name": "stdout",
     "output_type": "stream",
     "text": [
      "[0.01568275 0.12806802 0.85624923]\n"
     ]
    },
    {
     "data": {
      "text/plain": [
       "<Figure size 640x480 with 1 Axes>"
      ],
      "image/png": "[encoded data removed]"
     },
     "metadata": {},
     "output_type": "display_data",
     "jetTransient": {
      "display_id": null
     }
    },
    {
     "name": "stdout",
     "output_type": "stream",
     "text": [
      "1.0\n"
     ]
    }
   ],
   "execution_count": 8
  },
  {
   "metadata": {},
   "cell_type": "markdown",
   "source": [
    "## softmax 函数的特点\n",
    "* softmax 函数的输出值在 0 到 1 之间\n",
    "* softmax 函数的输出值的和为 1\n",
    "* softmax 函数可以将输入值转换为概率分布\n",
    "\n",
    "上面的代码中 a[0] 的概率为 0.015, a[1] 的概率为 0.128, a[2] 的概率为 0.85。因为第三个概率最高，所以答案是 a[2]。\n",
    "* 或者严谨的回答，85% 的概率是 a[2]，12.8% 的概率是 a[1]，1.5% 的概率是 a[0]。\n",
    "* 也就是说，softmax 函数的输出值可以看作是各个类别的概率。\n",
    "* 所以机器学习中常用 softmax 函数作为分类问题的输出层激活函数。\n",
    "\n",
    "```\n",
    "由于指数函数是单调递增的，所以输入值最大的元素对应的输出值也是最大的。\n",
    "也就是说，softmax 函数不会改变输入值的大小关系。因此在进行分类时，输出层的softmax 函数可以省略。\n",
    "实际问题中，指数函数需要一定的计算量，所以 softmax 函数一般会被省略掉。\n",
    "```\n",
    "### 输出层的神经元数量\n",
    "* 输出层的神经元数量等于分类的类别数量\n",
    "* 比如，识别数字 0~9 的图片，输出层的神经元数量为 10\n",
    "* 输出层的每个神经元对应一个类别，输出值表示该类别的概率\n",
    "* 选择输出值最大的神经元对应的类别作为最终的分类结果"
   ],
   "id": "b0b4e4a3189dd55a"
  }
 ],
 "metadata": {
  "kernelspec": {
   "display_name": "Python 3",
   "language": "python",
   "name": "python3"
  },
  "language_info": {
   "codemirror_mode": {
    "name": "ipython",
    "version": 2
   },
   "file_extension": ".py",
   "mimetype": "text/x-python",
   "name": "python",
   "nbconvert_exporter": "python",
   "pygments_lexer": "ipython2",
   "version": "2.7.6"
  }
 },
 "nbformat": 4,
 "nbformat_minor": 5
}
