{
 "cells": [
  {
   "metadata": {},
   "cell_type": "markdown",
   "source": [
    "### 感知机\n",
    "x1 * w1 + x2 * w2 > theta\n",
    "* 各种逻辑门通过调整 w1, w2, theta 的值可以实现，能实现逻辑的组合有多种"
   ],
   "id": "6a6292ecbf9c6406"
  },
  {
   "metadata": {},
   "cell_type": "code",
   "source": [
    "# 与门, x1 和 x2 都为 1 时输出 1，否则输出 0\n",
    "# 权重 w1, w2 都设为 0.5，阈值 theta 设为 0.7\n",
    "def AND(x1, x2):\n",
    "    w1, w2, theta = 0.5, 0.5, 0.7\n",
    "    tmp = x1 * w1 + x2 * w2\n",
    "    if tmp <= theta:\n",
    "        return 0\n",
    "    else:\n",
    "        return 1\n",
    "print(\"AND(0, 0) =\", AND(0, 0))\n",
    "print(\"AND(0, 1) =\", AND(0, 1))\n",
    "print(\"AND(1, 0) =\", AND(1, 0))\n",
    "print(\"AND(1, 1) =\", AND(1, 1))"
   ],
   "id": "295f18b18bac68a8",
   "outputs": [],
   "execution_count": null
  },
  {
   "metadata": {},
   "cell_type": "markdown",
   "source": [
    "把 theta 移到不等式的左边，命名为偏置 b\n",
    "x1 * w1 + x2 * w2 - b > 0\n",
    "这样判断是否大于 0 就行了"
   ],
   "id": "ed44d25764d3798c"
  },
  {
   "metadata": {
    "ExecuteTime": {
     "end_time": "2025-10-12T07:44:08.213492Z",
     "start_time": "2025-10-12T07:44:08.206787Z"
    }
   },
   "cell_type": "code",
   "source": [
    "def AND(x1, x2):\n",
    "    w1, w2, b = 0.5, 0.5, 0.7\n",
    "    tmp = x1 * w1 + x2 * w2 - b\n",
    "    if tmp <= 0:\n",
    "        return 0\n",
    "    else:\n",
    "        return 1\n",
    "print(\"AND(0, 0) =\", AND(0, 0))\n",
    "print(\"AND(0, 1) =\", AND(0, 1))\n",
    "print(\"AND(1, 0) =\", AND(1, 0))\n",
    "print(\"AND(1, 1) =\", AND(1, 1))"
   ],
   "id": "3c1d6a77eeae64a4",
   "outputs": [
    {
     "name": "stdout",
     "output_type": "stream",
     "text": [
      "AND(0, 0) = 0\n",
      "AND(0, 1) = 0\n",
      "AND(1, 0) = 0\n",
      "AND(1, 1) = 1\n"
     ]
    }
   ],
   "execution_count": 4
  },
  {
   "metadata": {},
   "cell_type": "code",
   "outputs": [],
   "execution_count": null,
   "source": [
    "# 使用 np.array 来表示输入和权重\n",
    "import numpy as np\n",
    "def AND(x1, x2):\n",
    "    x = np.array([x1, x2])\n",
    "    w = np.array([0.5, 0.5])\n",
    "    b = -0.7\n",
    "    # 这里用 np.sum 来计算 w1*x1 + w2*x2\n",
    "    # w * x 是对应元素相乘\n",
    "    # sum 函数对所有元素求和\n",
    "    tmp = np.sum(w * x) + b\n",
    "    if tmp <= 0:\n",
    "        return 0\n",
    "    else:\n",
    "        return 1"
   ],
   "id": "d2acf57cb3ed7dd0"
  },
  {
   "metadata": {
    "ExecuteTime": {
     "end_time": "2025-10-12T07:51:56.763836Z",
     "start_time": "2025-10-12T07:51:56.623834Z"
    }
   },
   "cell_type": "code",
   "source": [
    "# 与非门，x1 和 x2 都为 1 时输出 0，否则输出 1\n",
    "# 权重 w1, w2 都设为 -0.5，便置 b 设为 0.7\n",
    "import numpy as np\n",
    "def NAND(x1, x2):\n",
    "    x = np.array([x1, x2])\n",
    "    w = np.array([-0.5, -0.5])\n",
    "    b = 0.7\n",
    "    tmp = np.sum(w * x) + b\n",
    "    if tmp <= 0:\n",
    "        return 0\n",
    "    else:\n",
    "        return 1\n",
    "\n",
    "print(\"NAND(0, 0) =\", NAND(0, 0))\n",
    "print(\"NAND(0, 1) =\", NAND(0, 1))\n",
    "print(\"NAND(1, 0) =\", NAND(1, 0))\n",
    "print(\"NAND(1, 1) =\", NAND(1, 1))"
   ],
   "id": "892a46e6367a87de",
   "outputs": [
    {
     "name": "stdout",
     "output_type": "stream",
     "text": [
      "NAND(0, 0) = 1\n",
      "NAND(0, 1) = 1\n",
      "NAND(1, 0) = 1\n",
      "NAND(1, 1) = 0\n"
     ]
    }
   ],
   "execution_count": 6
  },
  {
   "metadata": {
    "ExecuteTime": {
     "end_time": "2025-10-12T08:54:42.151459Z",
     "start_time": "2025-10-12T08:54:42.144819Z"
    }
   },
   "cell_type": "code",
   "source": [
    "# 或门，x1 和 x2 有一个为 1 时输出 1，否则输出 0\n",
    "# 权重 w1, w2 都设为 0.5，便置 b 设为 -0.2\n",
    "import numpy as np\n",
    "def OR(x1, x2):\n",
    "    x = np.array([x1, x2])\n",
    "    w = np.array([0.5, 0.5])\n",
    "    b = -0.2\n",
    "    tmp = np.sum(w * x) + b\n",
    "    if tmp <= 0:\n",
    "        return 0\n",
    "    else:\n",
    "        return 1\n",
    "\n",
    "print(\"OR(0, 0) =\", OR(0, 0))\n",
    "print(\"OR(0, 1) =\", OR(0, 1))\n",
    "print(\"OR(1, 0) =\", OR(1, 0))\n",
    "print(\"OR(1, 1) =\", OR(1, 1))"
   ],
   "id": "8a8fa355c01729c8",
   "outputs": [
    {
     "name": "stdout",
     "output_type": "stream",
     "text": [
      "OR(0, 0) = 0\n",
      "OR(0, 1) = 1\n",
      "OR(1, 0) = 1\n",
      "OR(1, 1) = 1\n"
     ]
    }
   ],
   "execution_count": 8
  },
  {
   "metadata": {},
   "cell_type": "markdown",
   "source": [
    "### 异或门\n",
    "x1 和 x2 不同则输出 1，相同则输出 0\n",
    "* 不能用单层感知机实现\n",
    "* 可以用多层感知机实现\n",
    "* 异或门先经过与非门和或门，再经过与门"
   ],
   "id": "efaefbc68a85a864"
  },
  {
   "metadata": {
    "ExecuteTime": {
     "end_time": "2025-10-12T08:57:34.411581Z",
     "start_time": "2025-10-12T08:57:34.407513Z"
    }
   },
   "cell_type": "code",
   "source": [
    "def XOR(x1, x2):\n",
    "    s1 = NAND(x1, x2)\n",
    "    s2 = OR(x1, x2)\n",
    "    y = AND(s1, s2)\n",
    "    return y\n",
    "print(\"XOR(0, 0) =\", XOR(0, 0))\n",
    "print(\"XOR(0, 1) =\", XOR(0, 1))\n",
    "print(\"XOR(1, 0) =\", XOR(1, 0))\n",
    "print(\"XOR(1, 1) =\", XOR(1, 1))"
   ],
   "id": "bf35fd710d5a94a6",
   "outputs": [
    {
     "name": "stdout",
     "output_type": "stream",
     "text": [
      "XOR(0, 0) = 0\n",
      "XOR(0, 1) = 1\n",
      "XOR(1, 0) = 1\n",
      "XOR(1, 1) = 0\n"
     ]
    }
   ],
   "execution_count": 10
  },
  {
   "metadata": {},
   "cell_type": "markdown",
   "source": [
    "## sigmoid 函数 和 阶跃函数（step function）\n",
    "* 阶跃函数在 0 附近不连续\n",
    "* sigmoid 函数在 0 附近连续且可导\n",
    "* 机器学习中常用 sigmoid 函数作为激活函数\n",
    "* sigmoid 函数比较平滑"
   ],
   "id": "b44e60c9546dc820"
  },
  {
   "metadata": {},
   "cell_type": "markdown",
   "source": [
    "# 总结\n",
    "* 感知机是神经网络的基础\n",
    "* 单层感知机只能解决线性可分问题\n",
    "    1. 与门，权重 (0.5, 0.5)，偏置 -0.7\n",
    "    2. 或门，权重 (0.5, 0.5)，偏置 -0.2\n",
    "    3. 与非门，权重 (-0.5, -0.5)，偏置 0.7\n",
    "* 多层感知机可以解决非线性可分问题\n",
    "    1. 异或门由与非门、或门、与门组成\n",
    "* 激活函数常用 sigmoid 函数"
   ],
   "id": "2a00c8418c12c341"
  }
 ],
 "metadata": {
  "kernelspec": {
   "display_name": "Python 3",
   "language": "python",
   "name": "python3"
  },
  "language_info": {
   "codemirror_mode": {
    "name": "ipython",
    "version": 2
   },
   "file_extension": ".py",
   "mimetype": "text/x-python",
   "name": "python",
   "nbconvert_exporter": "python",
   "pygments_lexer": "ipython2",
   "version": "2.7.6"
  }
 },
 "nbformat": 4,
 "nbformat_minor": 5
}
