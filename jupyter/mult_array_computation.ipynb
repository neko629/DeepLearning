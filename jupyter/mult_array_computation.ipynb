{
 "cells": [
  {
   "metadata": {},
   "cell_type": "markdown",
   "source": [
    "# 多维数组运算\n",
    "numpy 可以进行多维数组的运算，可以不用深究其原理，直接使用即可。"
   ],
   "id": "70fd893e566ff695"
  },
  {
   "metadata": {
    "ExecuteTime": {
     "end_time": "2025-10-15T10:09:22.866962Z",
     "start_time": "2025-10-15T10:09:22.754788Z"
    }
   },
   "cell_type": "code",
   "source": [
    "import numpy as np\n",
    "a = np.array([1, 2, 3, 4]) # 一维数组\n",
    "print(a)"
   ],
   "id": "e2d0ad3a33804d1b",
   "outputs": [
    {
     "name": "stdout",
     "output_type": "stream",
     "text": [
      "[1 2 3 4]\n"
     ]
    }
   ],
   "execution_count": 1
  }
 ],
 "metadata": {
  "kernelspec": {
   "display_name": "Python 3",
   "language": "python",
   "name": "python3"
  },
  "language_info": {
   "codemirror_mode": {
    "name": "ipython",
    "version": 2
   },
   "file_extension": ".py",
   "mimetype": "text/x-python",
   "name": "python",
   "nbconvert_exporter": "python",
   "pygments_lexer": "ipython2",
   "version": "2.7.6"
  }
 },
 "nbformat": 4,
 "nbformat_minor": 5
}
