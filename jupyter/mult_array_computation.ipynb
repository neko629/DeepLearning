{
 "cells": [
  {
   "metadata": {},
   "cell_type": "markdown",
   "source": [
    "# 多维数组运算\n",
    "numpy 可以进行多维数组的运算，可以不用深究其原理，直接使用即可。"
   ],
   "id": "70fd893e566ff695"
  },
  {
   "metadata": {
    "ExecuteTime": {
     "end_time": "2025-10-15T12:58:55.482233Z",
     "start_time": "2025-10-15T12:58:55.476034Z"
    }
   },
   "cell_type": "code",
   "source": [
    "import numpy as np\n",
    "a = np.array([1, 2, 3, 4]) # 一维数组\n",
    "b = np.array([[1, 2], [3, 4], [5, 6]]) # 二维数组\n",
    "print(a)\n",
    "print(b)\n",
    "# np.ndim 可以查看数组的维度\n",
    "print(np.ndim(a))\n",
    "print(np.ndim(b))\n",
    "# np.shape 可以查看数组的形状, 即每一维的大小\n",
    "print(a.shape)\n",
    "print(b.shape)"
   ],
   "id": "e2d0ad3a33804d1b",
   "outputs": [
    {
     "name": "stdout",
     "output_type": "stream",
     "text": [
      "[1 2 3 4]\n",
      "[[1 2]\n",
      " [3 4]\n",
      " [5 6]]\n",
      "1\n",
      "2\n",
      "(4,)\n",
      "(3, 2)\n"
     ]
    }
   ],
   "execution_count": 3
  },
  {
   "metadata": {},
   "cell_type": "markdown",
   "source": [
    "### 矩阵乘法\n",
    "* 两个矩阵相乘可以使用 np.dot 函数\n",
    "* 相乘的两个矩阵 A 和 B 的形状分别是 (m, n) 和 (n, p)，则相乘后的矩阵 C 的形状是 (m, p)\n",
    "* 即 A 的列数必须等于 B 的行数，相乘后的矩阵 C 的行数等于 A 的行数，列数等于 B 的列数"
   ],
   "id": "c633a499887e44b8"
  }
 ],
 "metadata": {
  "kernelspec": {
   "display_name": "Python 3",
   "language": "python",
   "name": "python3"
  },
  "language_info": {
   "codemirror_mode": {
    "name": "ipython",
    "version": 2
   },
   "file_extension": ".py",
   "mimetype": "text/x-python",
   "name": "python",
   "nbconvert_exporter": "python",
   "pygments_lexer": "ipython2",
   "version": "2.7.6"
  }
 },
 "nbformat": 4,
 "nbformat_minor": 5
}
